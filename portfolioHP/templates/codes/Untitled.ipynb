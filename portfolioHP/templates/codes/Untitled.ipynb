{
 "cells": [
  {
   "cell_type": "code",
   "execution_count": 1,
   "id": "4be6efbb-6440-42ba-b01e-733b8c1dd262",
   "metadata": {
    "tags": []
   },
   "outputs": [
    {
     "data": {
      "text/plain": [
       "0"
      ]
     },
     "execution_count": 1,
     "metadata": {},
     "output_type": "execute_result"
    }
   ],
   "source": [
    "import pymysql\n",
    "\n",
    "conn = pymysql.connect(host='locahost',unix_socket='/tmp/mysql.sock',user='root',passwd=None, db='mysql', charset='utf8')\n",
    "\n",
    "cur = conn.cursor()\n",
    "cur.execute(\"USE wikipedia\")"
   ]
  },
  {
   "cell_type": "code",
   "execution_count": 2,
   "id": "5bac50da-e2a6-40c5-b20f-7fc91207d18f",
   "metadata": {
    "tags": []
   },
   "outputs": [
    {
     "data": {
      "text/plain": [
       "526985"
      ]
     },
     "execution_count": 2,
     "metadata": {},
     "output_type": "execute_result"
    }
   ],
   "source": [
    "cur.execute(\"SELECT * FROM pages;\")"
   ]
  },
  {
   "cell_type": "code",
   "execution_count": 3,
   "id": "8a3438c0-ee92-440f-894a-7de731834b00",
   "metadata": {
    "tags": []
   },
   "outputs": [],
   "source": [
    "articles = cur.fetchall()"
   ]
  },
  {
   "cell_type": "code",
   "execution_count": 7,
   "id": "17cdfb84-fad6-42e2-bffb-c7fde730b94b",
   "metadata": {
    "tags": []
   },
   "outputs": [
    {
     "name": "stdout",
     "output_type": "stream",
     "text": [
      "articles テーブルの内容:  ((91, '/wiki/The_Great_Destroyer', datetime.datetime(2022, 11, 11, 16, 14, 34)), (92, '/wiki/Stories_Since_Seventy_Nine', datetime.datetime(2022, 11, 11, 16, 14, 34)), (93, '/wiki/Seasons_of_Your_Day', datetime.datetime(2022, 11, 11, 16, 14, 34)), (94, '/wiki/Metro_Station_(album)', datetime.datetime(2022, 11, 11, 16, 14, 34)), (95, '/wiki/What_Is_Love%3F_(Never_Shout_Never_album)', datetime.datetime(2022, 11, 11, 16, 14, 34)), (96, '/wiki/Cowboy_Tears', datetime.datetime(2022, 11, 11, 16, 14, 34)), (97, '/wiki/Rich_Brian', datetime.datetime(2022, 11, 11, 16, 14, 34)), (98, '/wiki/Poses_(album)', datetime.datetime(2022, 11, 11, 16, 14, 34)), (99, '/wiki/Feeling_Strangely_Fine', datetime.datetime(2022, 11, 11, 16, 14, 34)), (100, '/wiki/This_Is_How_the_Wind_Shifts', datetime.datetime(2022, 11, 11, 16, 14, 34)))\n"
     ]
    }
   ],
   "source": [
    "print(\"articles テーブルの内容: \", articles[90:100])"
   ]
  },
  {
   "cell_type": "code",
   "execution_count": 9,
   "id": "ea9b728d-0757-46cf-bb63-88e6f416269d",
   "metadata": {
    "tags": []
   },
   "outputs": [
    {
     "data": {
      "text/plain": [
       "3"
      ]
     },
     "execution_count": 9,
     "metadata": {},
     "output_type": "execute_result"
    }
   ],
   "source": [
    "cur.execute(\"DESCRIBE pages;\")"
   ]
  },
  {
   "cell_type": "code",
   "execution_count": 10,
   "id": "0026f833-6b4d-4ade-bfbe-1f8efe13152b",
   "metadata": {
    "tags": []
   },
   "outputs": [
    {
     "name": "stdout",
     "output_type": "stream",
     "text": [
      "Available tables: (('links',), ('pages',))\n"
     ]
    }
   ],
   "source": [
    "cur.execute(\"SHOW TABLES;\")\n",
    "tables = cur.fetchall()\n",
    "print(\"Available tables:\", tables)\n"
   ]
  },
  {
   "cell_type": "code",
   "execution_count": 12,
   "id": "6b1c73a8-ec5c-4c63-87df-529068da370f",
   "metadata": {
    "tags": []
   },
   "outputs": [
    {
     "name": "stdout",
     "output_type": "stream",
     "text": [
      "('id', 'int', 'NO', 'PRI', None, 'auto_increment')\n",
      "('url', 'varchar(255)', 'YES', '', None, '')\n",
      "('created', 'timestamp', 'NO', '', 'CURRENT_TIMESTAMP', 'DEFAULT_GENERATED')\n"
     ]
    }
   ],
   "source": [
    "cur.execute(\"DESCRIBE pages;\")\n",
    "schema = cur.fetchall()\n",
    "for field in schema:\n",
    "    print(field)"
   ]
  },
  {
   "cell_type": "code",
   "execution_count": null,
   "id": "f090afc4-446f-48c5-9bfb-bebba1a6b031",
   "metadata": {},
   "outputs": [],
   "source": []
  }
 ],
 "metadata": {
  "kernelspec": {
   "display_name": "Python 3 (ipykernel)",
   "language": "python",
   "name": "python3"
  },
  "language_info": {
   "codemirror_mode": {
    "name": "ipython",
    "version": 3
   },
   "file_extension": ".py",
   "mimetype": "text/x-python",
   "name": "python",
   "nbconvert_exporter": "python",
   "pygments_lexer": "ipython3",
   "version": "3.8.0"
  }
 },
 "nbformat": 4,
 "nbformat_minor": 5
}
